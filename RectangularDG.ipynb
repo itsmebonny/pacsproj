{
 "cells": [
  {
   "cell_type": "code",
   "execution_count": 9,
   "metadata": {},
   "outputs": [
    {
     "name": "stdout",
     "output_type": "stream",
     "text": [
      "The autoreload extension is already loaded. To reload it, use:\n",
      "  %reload_ext autoreload\n"
     ]
    }
   ],
   "source": [
    "%load_ext autoreload\n",
    "%autoreload 2"
   ]
  },
  {
   "cell_type": "code",
   "execution_count": 1,
   "metadata": {},
   "outputs": [],
   "source": [
    "from dolfin import *\n",
    "import matplotlib.pyplot as plt\n",
    "import numpy as np\n",
    "import GenerateData as gd\n",
    "import MeshUtils as mu\n",
    "import gmsh\n",
    "import GenerateGraph as gg"
   ]
  },
  {
   "cell_type": "code",
   "execution_count": 11,
   "metadata": {},
   "outputs": [],
   "source": [
    "#!dolfin-convert data/mesh_test/Prova_0.msh data/mesh_test/Prova_0.xml\n",
    "# !dolfin-convert data/mesh_long/RandomMesh_1.msh data/mesh_long/RandomMesh_1.xml\n",
    "# !dolfin-convert data/mesh_long/RandomMesh_0.msh data/mesh_long/RandomMesh_0.xml\n",
    "# !dolfin-convert data/mesh_long/RandomMesh_2.msh data/mesh_long/RandomMesh_2.xml\n",
    "# !dolfin-convert data/mesh_long/RandomMesh_0.msh data/mesh_long/RandomMesh_0.xml\n",
    "# !dolfin-convert data/mesh_long/RandomMesh_3.msh data/mesh_long/RandomMesh_3.xml\n",
    "# !dolfin-convert data/mesh_long/RandomMesh_4.msh data/mesh_long/RandomMesh_4.xml\n",
    "# !dolfin-convert data/mesh_long/RandomMesh_5.msh data/mesh_long/RandomMesh_5.xml\n",
    "# !dolfin-convert data/mesh_long/RandomMesh_6.msh data/mesh_long/RandomMesh_6.xml\n",
    "# !dolfin-convert data/mesh_long/RandomMesh_7.msh data/mesh_long/RandomMesh_7.xml\n",
    "# !dolfin-convert data/mesh_long/RandomMesh_8.msh data/mesh_long/RandomMesh_8.xml\n",
    "# !dolfin-convert data/mesh_long/RandomMesh_9.msh data/mesh_long/RandomMesh_9.xml\n",
    "# !dolfin-convert data/mesh_long/RandomMesh_10.msh data/mesh_long/RandomMesh_10.xml\n",
    "# !dolfin-convert data/mesh_long/RandomMesh_11.msh data/mesh_long/RandomMesh_11.xml\n",
    "# !dolfin-convert data/mesh_long/RandomMesh_12.msh data/mesh_long/RandomMesh_12.xml\n",
    "# !dolfin-convert data/mesh_long/RandomMesh_13.msh data/mesh_long/RandomMesh_13.xml\n",
    "# !dolfin-convert data/mesh_long/RandomMesh_14.msh data/mesh_long/RandomMesh_14.xml\n",
    "# !dolfin-convert data/mesh_long/RandomMesh_15.msh data/mesh_long/RandomMesh_15.xml\n",
    "# !dolfin-convert data/mesh_long/RandomMesh_16.msh data/mesh_long/RandomMesh_16.xml\n",
    "# !dolfin-convert data/mesh_long/RandomMesh_17.msh data/mesh_long/RandomMesh_17.xml\n",
    "# !dolfin-convert data/mesh_long/RandomMesh_18.msh data/mesh_long/RandomMesh_18.xml\n",
    "# !dolfin-convert data/mesh_long/RandomMesh_19.msh data/mesh_long/RandomMesh_19.xml"
   ]
  },
  {
   "cell_type": "code",
   "execution_count": 2,
   "metadata": {},
   "outputs": [
    {
     "data": {
      "text/plain": [
       "[<matplotlib.lines.Line2D at 0x7fde040a3e90>,\n",
       " <matplotlib.lines.Line2D at 0x7fde040a2d90>]"
      ]
     },
     "execution_count": 2,
     "metadata": {},
     "output_type": "execute_result"
    },
    {
     "data": {
      "image/png": "[encoded data removed]",
      "text/plain": [
       "<Figure size 640x480 with 1 Axes>"
      ]
     },
     "metadata": {},
     "output_type": "display_data"
    }
   ],
   "source": [
    "mesh_load = mu.MeshLoader(\"data/mesh_long/RandomMesh_0\")\n",
    "mesh = mesh_load.mesh\n",
    "bounds = mesh_load.bounds\n",
    "face = mesh_load.face\n",
    "plot(mesh)"
   ]
  },
  {
   "cell_type": "code",
   "execution_count": 13,
   "metadata": {},
   "outputs": [
    {
     "data": {
      "text/plain": [
       "(Measure('interior_facet', subdomain_id='everywhere', domain=Mesh(VectorElement(FiniteElement('Lagrange', triangle, 1), dim=2), 1979), subdomain_data=<dolfin.cpp.mesh.MeshFunctionSizet object at 0x7f9310439e30>),\n",
       " Measure('exterior_facet', subdomain_id='everywhere', domain=Mesh(VectorElement(FiniteElement('Lagrange', triangle, 1), dim=2), 1979), subdomain_data=<dolfin.cpp.mesh.MeshFunctionSizet object at 0x7f9310439e30>),\n",
       " Measure('cell', subdomain_id='everywhere', domain=Mesh(VectorElement(FiniteElement('Lagrange', triangle, 1), dim=2), 1979), subdomain_data=<dolfin.cpp.mesh.MeshFunctionSizet object at 0x7f9310438430>))"
      ]
     },
     "execution_count": 13,
     "metadata": {},
     "output_type": "execute_result"
    }
   ],
   "source": [
    "tags = {'walls':[1],'inlet':[2],'outlet':[3], 'interface': [4,5,6], 'faces': [7,8,9,10]}\n",
    "#tags = {'walls':[1],'inlet':[2],'outlet':[3], 'interface': [4,5,6,7,8,9,10,11], 'faces': [12,13,14,15,16,17,18,19]}\n",
    "mesh_load.update_tags(tags)\n",
    "mesh_load.measure_definition()"
   ]
  },
  {
   "cell_type": "code",
   "execution_count": 14,
   "metadata": {},
   "outputs": [
    {
     "name": "stdout",
     "output_type": "stream",
     "text": [
      "['flux']\n",
      "Graph saved to disk.\n"
     ]
    },
    {
     "data": {
      "text/plain": [
       "Graph(num_nodes=5, num_edges=4,\n",
       "      ndata_schemes={'x': Scheme(shape=(2,), dtype=torch.float32), 'k': Scheme(shape=(1, 1), dtype=torch.float32), 'NodeId': Scheme(shape=(), dtype=torch.float32), 'inlet_mask': Scheme(shape=(), dtype=torch.float32), 'outlet_mask': Scheme(shape=(), dtype=torch.float32), 'interface_length': Scheme(shape=(1, 1), dtype=torch.float32), 'flux': Scheme(shape=(1, 50), dtype=torch.float32), 'dt': Scheme(shape=(1, 1), dtype=torch.float32), 'T': Scheme(shape=(1, 1), dtype=torch.float32)}\n",
       "      edata_schemes={'EdgeId': Scheme(shape=(), dtype=torch.float32), 'area': Scheme(shape=(1, 1), dtype=torch.float32), 'length': Scheme(shape=(1, 1), dtype=torch.float32)})"
      ]
     },
     "execution_count": 14,
     "metadata": {},
     "output_type": "execute_result"
    }
   ],
   "source": [
    "set_log_active(False)\n",
    "V = FunctionSpace(mesh_load.mesh,\"DG\",1)\n",
    "k = 2\n",
    "f = Constant(0.0)\n",
    "u0 = Expression('0.0',degree=0)\n",
    "# f = Expression('exp(-a*pow(x[0], 2) - a*pow(x[1]-2.5, 2))',degree=2, a=0.2)\n",
    "# u0 = Expression('exp(-a*pow(x[0], 2) - a*pow(x[1]-2.5, 2))',degree=2, a=0.01)\n",
    "\n",
    "T = 5\n",
    "timesteps = 50\n",
    "dt = T/timesteps\n",
    "\n",
    "def gaussian(t,a,b,c):\n",
    "    return a*np.exp(-(t-b)**2/c**2)\n",
    "\n",
    "time = np.linspace(0,T,timesteps)\n",
    "g = Expression('a*exp(-(t-b)*(t-b)/c/c)',degree=2,a=2,b=2.5,c=1,t=0)\n",
    "\n",
    "heat_gaussian = gd.Heat(mesh_load,V,k,f,u0,dt,T,g)\n",
    "heat_gaussian.solve()\n",
    "data = gd.DataHeat(heat_gaussian,mesh_load)\n",
    "data.save_graph(output_dir = \"data/graphs_test/\")"
   ]
  },
  {
   "cell_type": "code",
   "execution_count": 15,
   "metadata": {},
   "outputs": [
    {
     "data": {
      "text/plain": [
       "tensor([[[4.9000]],\n",
       "\n",
       "        [[4.9000]],\n",
       "\n",
       "        [[4.9000]],\n",
       "\n",
       "        [[4.9000]],\n",
       "\n",
       "        [[4.9000]]])"
      ]
     },
     "execution_count": 15,
     "metadata": {},
     "output_type": "execute_result"
    }
   ],
   "source": [
    "import dgl\n",
    "\n",
    "bo = dgl.data.utils.load_graphs(f\"data/graphs_test/k_{2}.grph\")\n",
    "bo[0][0].ndata['T']"
   ]
  },
  {
   "cell_type": "code",
   "execution_count": 3,
   "metadata": {},
   "outputs": [
    {
     "name": "stdout",
     "output_type": "stream",
     "text": [
      "Calling FFC just-in-time (JIT) compiler, this may take some time.\n",
      "Calling FFC just-in-time (JIT) compiler, this may take some time.\n",
      "Calling FFC just-in-time (JIT) compiler, this may take some time.\n",
      "Calling FFC just-in-time (JIT) compiler, this may take some time.\n",
      "Calling FFC just-in-time (JIT) compiler, this may take some time.\n",
      "Graph saved to disk.\n",
      "Calling FFC just-in-time (JIT) compiler, this may take some time.\n",
      "Calling FFC just-in-time (JIT) compiler, this may take some time.\n",
      "Calling FFC just-in-time (JIT) compiler, this may take some time.\n",
      "Calling FFC just-in-time (JIT) compiler, this may take some time.\n",
      "Calling FFC just-in-time (JIT) compiler, this may take some time.\n",
      "Graph saved to disk.\n"
     ]
    }
   ],
   "source": [
    "# #diffusion of a gaussian function\n",
    "# np.random.seed(50)\n",
    "tags = {'walls':[1],'inlet':[2],'outlet':[3], 'interface': [4,5,6], 'faces': [7,8,9,10]}\n",
    "# tags = {'walls':[1],'inlet':[2],'outlet':[3], 'interface': [4,5,6,7,8,9,10,11], 'faces': [12,13,14,15,16,17,18,19]}\n",
    "for i in range(2):\n",
    "    it = np.random.randint(0,20)\n",
    "    mesh_load = mu.MeshLoader(f\"data/mesh_new/RandomMesh_{1}\")\n",
    "    mesh = mesh_load.mesh\n",
    "    bounds = mesh_load.bounds\n",
    "    face = mesh_load.face\n",
    "    mesh_load.update_tags(tags)\n",
    "    mesh_load.measure_definition()\n",
    "    set_log_active(False)\n",
    "    k = round(np.random.uniform(30, 80),2)\n",
    "    V = FunctionSpace(mesh_load.mesh,\"DG\",1)\n",
    "    f = Constant(0.0)\n",
    "    g = Expression('a*exp(-(t-b)*(t-b)/c/c)',degree=2,a=5,b=2.5,c=1,t=0)\n",
    "    u0 = Expression('0.0',degree=0)\n",
    "    T = 5\n",
    "    timesteps = 50\n",
    "    dt = T/ timesteps\n",
    "\n",
    "    heat_gaussian = gd.Heat(mesh_load,V,k,f,u0,dt,T,g)\n",
    "    heat_gaussian.solve()\n",
    "    #heat_gaussian.plot_solution()\n",
    "    data = gd.DataHeat(heat_gaussian,mesh_load)\n",
    "    data.save_graph(output_dir = \"data/graphs_new/\")\n"
   ]
  },
  {
   "cell_type": "code",
   "execution_count": 4,
   "metadata": {},
   "outputs": [
    {
     "name": "stdout",
     "output_type": "stream",
     "text": [
      "Created /mnt/c/Users/ASUS/Desktop/POLI/PACS/pacsproj/data/graphs_new/dataset_info.json\n"
     ]
    }
   ],
   "source": [
    "import os\n",
    "import json\n",
    "import re\n",
    "\n",
    "# Specify the directory containing .grph files\n",
    "# input_directory = os.path.expanduser(\"~/Documents/pacs/pacsproj/data/graphs_rm2/\")\n",
    "input_directory = os.path.expanduser(\"data/graphs_new/\")\n",
    "\n",
    "# Get the full path\n",
    "input_directory = os.path.realpath(input_directory)\n",
    "\n",
    "# Initialize an empty dictionary to store JSON objects for each file\n",
    "json_dict = {}\n",
    "\n",
    "# Iterate through each .grph file in the directory\n",
    "for graph_file in os.listdir(input_directory):\n",
    "    if graph_file.endswith(\".grph\"):\n",
    "        # Extract the filename without extension\n",
    "        filename_no_extension = os.path.splitext(graph_file)[0]\n",
    "\n",
    "        # Extract the mu parameter from the filename (assuming it is in the format k_11.3.grph)\n",
    "        mu_match = re.search(r'_(\\d+(\\.\\d+)?)', filename_no_extension)\n",
    "        mu = mu_match.group(1) if mu_match else None\n",
    "\n",
    "        # Create a dictionary for each .grph file\n",
    "        json_dict[filename_no_extension] = {\n",
    "            \"model_type\": \"heat_eq\",\n",
    "            # \"T\": 0.937,\n",
    "            # \"dt\": 0.000937,\n",
    "            # \"time_shift\": 0,\n",
    "            # \"bc_type\": \"RCR\",\n",
    "            \"mu\": mu\n",
    "        }\n",
    "\n",
    "# Save the dictionary as a JSON file\n",
    "json_file_path = os.path.join(input_directory, \"dataset_info.json\")\n",
    "with open(json_file_path, 'w') as json_file:\n",
    "    json.dump(json_dict, json_file, indent=2)\n",
    "\n",
    "print(f\"Created {json_file_path}\")"
   ]
  },
  {
   "cell_type": "code",
   "execution_count": 18,
   "metadata": {},
   "outputs": [
    {
     "data": {
      "text/plain": [
       "[<matplotlib.lines.Line2D at 0x7f930fd08490>]"
      ]
     },
     "execution_count": 18,
     "metadata": {},
     "output_type": "execute_result"
    },
    {
     "data": {
      "image/png": "[encoded data removed]",
      "text/plain": [
       "<Figure size 640x480 with 1 Axes>"
      ]
     },
     "metadata": {},
     "output_type": "display_data"
    }
   ],
   "source": [
    "def f(t):\n",
    "    return 2*np.exp(-(t-2.5)*(t-2.5)/1/1)\n",
    "\n",
    "time = np.linspace(0,T,50)\n",
    "y = f(time)\n",
    "plt.plot(time,y)"
   ]
  }
 ],
 "metadata": {
  "kernelspec": {
   "display_name": "fenics",
   "language": "python",
   "name": "python3"
  },
  "language_info": {
   "codemirror_mode": {
    "name": "ipython",
    "version": 3
   },
   "file_extension": ".py",
   "mimetype": "text/x-python",
   "name": "python",
   "nbconvert_exporter": "python",
   "pygments_lexer": "ipython3",
   "version": "3.11.3"
  },
  "orig_nbformat": 4
 },
 "nbformat": 4,
 "nbformat_minor": 2
}
