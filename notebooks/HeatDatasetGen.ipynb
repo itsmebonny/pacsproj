{
 "cells": [
  {
   "cell_type": "code",
   "execution_count": null,
   "metadata": {},
   "outputs": [],
   "source": [
    "%load_ext autoreload\n",
    "%autoreload 2"
   ]
  },
  {
   "cell_type": "code",
   "execution_count": null,
   "metadata": {},
   "outputs": [],
   "source": [
    "#add scripts to path\n",
    "import sys\n",
    "sys.path.append('../scripts')\n",
    "\n",
    "\n",
    "from dolfin import *\n",
    "import matplotlib.pyplot as plt\n",
    "import numpy as np\n",
    "import GenerateData as gd\n",
    "import MeshUtils as mutil\n",
    "import gmsh\n",
    "import GenerateGraph as gg\n",
    "import os\n",
    "import json"
   ]
  },
  {
   "cell_type": "code",
   "execution_count": null,
   "metadata": {},
   "outputs": [],
   "source": [
    "# run this cell to load a mesh and plot it\n",
    "\n",
    "mesh_load = mutil.MeshLoader(\"../data/mesh_test/test_mesh_0\")\n",
    "mesh = mesh_load.mesh\n",
    "bounds = mesh_load.bounds\n",
    "face = mesh_load.face\n",
    "mesh_load.plot_mesh()"
   ]
  },
  {
   "cell_type": "code",
   "execution_count": null,
   "metadata": {},
   "outputs": [],
   "source": [
    "ngraphs = 2 # number of graphs to generate\n",
    "output_dir = \"../data/graphs_test/\" # output directory for graphs \n",
    "mesh_dir = \"../data/mesh_test/\" # directory for mesh files\n",
    "mesh_info = json.load(open(mesh_dir + '/mesh_info.json'))\n",
    "mesh_name = mesh_info['mesh_name']\n",
    "nmesh = mesh_info['nmesh']\n",
    "nodes = mesh_info['nodes']\n",
    "\n",
    "f = Constant(0.0)\n",
    "g = Expression('a*exp(-(t-b)*(t-b)/c/c)',degree=2,a=5,b=2.5,c=1,t=0)\n",
    "u0 = Expression('0.0',degree=0)\n",
    "T = 5\n",
    "timesteps = 50\n",
    "dt = T/timesteps\n",
    "kmax = 100 # maximum thermal conductivity\n",
    "kmin = 1   # minimum thermal conductivity\n",
    "\n",
    "for i in range(ngraphs):\n",
    "    imesh = np.random.randint(0,nmesh)\n",
    "    mesh_load = mutil.MeshLoader(mesh_dir + mesh_name + f\"_{imesh}\")\n",
    "    mesh = mesh_load.mesh\n",
    "    bounds = mesh_load.bounds\n",
    "    face = mesh_load.face\n",
    "    mesh_load.update_tags(nodes=nodes)\n",
    "    mesh_load.measure_definition()\n",
    "    \n",
    "    V = FunctionSpace(mesh_load.mesh,\"DG\",1)\n",
    "    set_log_active(False)\n",
    "    k = round(np.random.uniform(kmin, kmax),2)\n",
    "    heat_gaussian = gd.Heat(mesh_load,V,k,f,u0,dt,T,g)\n",
    "    heat_gaussian.solve()\n",
    "    data = gd.DataHeat(heat_gaussian,mesh_load)\n",
    "    data.save_graph(output_dir)\n",
    "data.generate_json(output_dir)"
   ]
  }
 ],
 "metadata": {
  "kernelspec": {
   "display_name": "fenics",
   "language": "python",
   "name": "python3"
  },
  "language_info": {
   "codemirror_mode": {
    "name": "ipython",
    "version": 3
   },
   "file_extension": ".py",
   "mimetype": "text/x-python",
   "name": "python",
   "nbconvert_exporter": "python",
   "pygments_lexer": "ipython3",
   "version": "3.11.3"
  },
  "orig_nbformat": 4
 },
 "nbformat": 4,
 "nbformat_minor": 2
}
