{
 "cells": [
  {
   "cell_type": "code",
   "execution_count": 11,
   "metadata": {},
   "outputs": [
    {
     "name": "stdout",
     "output_type": "stream",
     "text": [
      "The autoreload extension is already loaded. To reload it, use:\n",
      "  %reload_ext autoreload\n"
     ]
    }
   ],
   "source": [
    "%load_ext autoreload\n",
    "%autoreload 2"
   ]
  },
  {
   "cell_type": "code",
   "execution_count": 12,
   "metadata": {},
   "outputs": [],
   "source": [
    "#add scripts to path\n",
    "import sys\n",
    "sys.path.append('../scripts')\n",
    "\n",
    "\n",
    "from dolfin import *\n",
    "import matplotlib.pyplot as plt\n",
    "import numpy as np\n",
    "import GenerateData as gd\n",
    "import MeshUtils as mutil\n",
    "import gmsh\n",
    "import GenerateGraph as gg\n",
    "import os\n",
    "import json"
   ]
  },
  {
   "cell_type": "code",
   "execution_count": 13,
   "metadata": {},
   "outputs": [
    {
     "data": {
      "image/png": "[encoded data removed]",
      "text/plain": [
       "<Figure size 640x480 with 1 Axes>"
      ]
     },
     "metadata": {},
     "output_type": "display_data"
    }
   ],
   "source": [
    "# run this cell to load a mesh and plot it\n",
    "\n",
    "mesh_load = mutil.MeshLoader(\"../data/mesh_test/test_mesh_0\")\n",
    "mesh = mesh_load.mesh\n",
    "bounds = mesh_load.bounds\n",
    "face = mesh_load.face\n",
    "mesh_load.plot_mesh()"
   ]
  },
  {
   "cell_type": "code",
   "execution_count": 14,
   "metadata": {},
   "outputs": [
    {
     "name": "stdout",
     "output_type": "stream",
     "text": [
      "Calling FFC just-in-time (JIT) compiler, this may take some time.\n",
      "Calling FFC just-in-time (JIT) compiler, this may take some time.\n",
      "Calling FFC just-in-time (JIT) compiler, this may take some time.\n",
      "Calling FFC just-in-time (JIT) compiler, this may take some time.\n",
      "Calling FFC just-in-time (JIT) compiler, this may take some time.\n",
      "[{0.0: array([0., 0., 0., 0., 0.]), 0.1: array([0.03391438, 0.0085604 , 0.00173739, 0.00032173, 0.        ]), 0.2: array([0.0555243 , 0.01977695, 0.00525957, 0.00117392, 0.        ]), 0.30000000000000004: array([0.08887863, 0.03505988, 0.01072385, 0.00268449, 0.        ]), 0.4: array([0.13941482, 0.05735594, 0.01885903, 0.00504989, 0.        ]), 0.5: array([0.21434269, 0.09030631, 0.03091644, 0.0086129 , 0.        ]), 0.6000000000000001: array([0.32300959, 0.13850741, 0.04866187, 0.01389543, 0.        ]), 0.7000000000000001: array([0.47712757, 0.20777668, 0.07443533, 0.02162343, 0.        ]), 0.8: array([0.69082468, 0.30531591, 0.11122904, 0.03275414, 0.        ]), 0.9: array([0.98042905, 0.4397483 , 0.16274577, 0.04850162, 0.        ]), 1.0: array([1.36389163, 0.62098987, 0.2334083 , 0.07035191, 0.        ]), 1.1: array([1.85976955, 0.85990839, 0.32829284, 0.10005781, 0.        ]), 1.2000000000000002: array([2.48573095, 1.16772981, 0.45296092, 0.13960323, 0.        ]), 1.3: array([3.25660396, 1.55517314, 0.6131699 , 0.191128  , 0.        ]), 1.4000000000000001: array([4.18207418, 2.03132868, 0.8144528 , 0.25680677, 0.        ]), 1.5: array([5.26422679, 2.60233932, 1.06157432, 0.33867994, 0.        ]), 1.6: array([6.49521675, 3.26999424, 1.35789054, 0.43844125, 0.        ]), 1.7000000000000002: array([7.85541329, 4.03039074, 1.70466304, 0.55719422, 0.        ]), 1.8: array([9.31238475, 4.87285363, 2.10039947, 0.69519805, 0.        ]), 1.9000000000000001: array([10.82105055,  5.77931172,  2.54030835,  0.85163083,  0.        ]), 2.0: array([12.32522238,  6.72431017,  3.01596139,  1.02440278,  0.        ]), 2.1: array([13.76059222,  7.67578256,  3.51524807,  1.21005291,  0.        ]), 2.2: array([15.05902083,  8.59662061,  4.02268358,  1.40375841,  0.        ]), 2.3000000000000003: array([16.15376802,  9.44697222,  4.52009347,  1.59947596,  0.        ]), 2.4000000000000004: array([16.98512439, 10.18708728,  4.98765081,  1.79022019,  0.        ]), 2.5: array([17.50579045, 10.78043288,  5.40519084,  1.96846658,  0.        ]), 2.6: array([17.68533084, 11.1967366 ,  5.7536832 ,  2.12664873,  0.        ]), 2.7: array([17.51312064, 11.41460035,  6.01670972,  2.25770396,  0.        ]), 2.8000000000000003: array([16.99938692, 11.42336583,  6.18178475,  2.35561168,  0.        ]), 2.9000000000000004: array([16.17420352, 11.2240015 ,  6.24136666,  2.41586592,  0.        ]), 3.0: array([15.08457644, 10.82890617,  6.19344389,  2.43582909,  0.        ]), 3.1: array([13.79001267, 10.26066603,  6.04163087,  2.41492756,  0.        ]), 3.2: array([12.35715316,  9.54993575,  5.79477048,  2.35466842,  0.        ]), 3.3000000000000003: array([10.85414123,  8.73271857,  5.46610045,  2.25847897,  0.        ]), 3.4000000000000004: array([9.3453816 , 7.84737888, 5.07209132, 2.13139125, 0.        ]), 3.5: array([7.88723271, 6.93172804, 4.6310967 , 1.97961157, 0.        ]), 3.6: array([6.52499439, 6.02048195, 4.16196757, 1.81002573, 0.        ]), 3.7: array([5.29134078, 5.14330956, 3.68277225, 1.62969375, 0.        ]), 3.8000000000000003: array([4.20614425, 4.32359143, 3.20973564, 1.44538446, 0.        ]), 3.9000000000000004: array([3.27747077, 3.57790535, 2.75647166, 1.26318954, 0.        ]), 4.0: array([2.50342143, 2.91616694, 2.33353912, 1.08824301, 0.        ]), 4.1000000000000005: array([1.87445457, 2.34229005, 1.94831028, 0.92455688, 0.        ]), 4.2: array([1.37584175, 1.85519771, 1.60510869, 0.77496906, 0.        ]), 4.3: array([0.98997306, 1.45000981, 1.30555172, 0.64118856, 0.        ]), 4.4: array([0.69831425, 1.11925297, 1.04902435, 0.5239153 , 0.        ]), 4.5: array([0.48290963, 0.8539724 , 0.83321265, 0.42300874, 0.        ]), 4.6000000000000005: array([0.32740688, 0.64466673, 0.65463559, 0.33767992, 0.        ]), 4.7: array([0.21764207, 0.48200736, 0.50912917, 0.26668506, 0.        ]), 4.800000000000001: array([0.14186205, 0.357338  , 0.3922532 , 0.20850371, 0.        ]), 4.9: array([0.09067887, 0.26297446, 0.29960722, 0.16149064, 0.        ])}]\n",
      "Graph saved to disk.\n",
      "Created /mnt/c/Users/ASUS/Desktop/POLI/PACS/pacsproj/data/graphs_test/dataset_info.json\n"
     ]
    }
   ],
   "source": [
    "ngraphs = 1 # number of graphs to generate\n",
    "output_dir = \"../data/graphs_test/\" # output directory for graphs \n",
    "mesh_dir = \"../data/mesh_test/\" # directory for mesh files\n",
    "mesh_info = json.load(open(mesh_dir + '/mesh_info.json'))\n",
    "mesh_name = mesh_info['mesh_name']\n",
    "nmesh = mesh_info['nmesh']\n",
    "nodes = mesh_info['nodes']\n",
    "\n",
    "f = Constant(0.0)\n",
    "g = Expression('a*exp(-(t-b)*(t-b)/c/c)',degree=2,a=5,b=2.5,c=1,t=0)\n",
    "u0 = Expression('0.0',degree=0)\n",
    "T = 5\n",
    "timesteps = 50\n",
    "dt = T/timesteps\n",
    "kmax = 100 # maximum thermal conductivity\n",
    "kmin = 1   # minimum thermal conductivity\n",
    "\n",
    "for i in range(ngraphs):\n",
    "    imesh = np.random.randint(0,nmesh)\n",
    "    mesh_load = mutil.MeshLoader(mesh_dir + mesh_name + f\"_{imesh}\")\n",
    "    mesh = mesh_load.mesh\n",
    "    bounds = mesh_load.bounds\n",
    "    face = mesh_load.face\n",
    "    mesh_load.update_tags(nodes=nodes)\n",
    "    mesh_load.measure_definition()\n",
    "    \n",
    "    V = FunctionSpace(mesh_load.mesh,\"DG\",1)\n",
    "    set_log_active(False)\n",
    "    k = round(np.random.uniform(kmin, kmax),2)\n",
    "    heat_gaussian = gd.Heat(mesh_load,V,k,f,u0,dt,T,g)\n",
    "    heat_gaussian.solve()\n",
    "    data = gd.DataHeat(heat_gaussian,mesh_load)\n",
    "    data.save_graph(output_dir)"
   ]
  }
 ],
 "metadata": {
  "kernelspec": {
   "display_name": "fenics",
   "language": "python",
   "name": "python3"
  },
  "language_info": {
   "codemirror_mode": {
    "name": "ipython",
    "version": 3
   },
   "file_extension": ".py",
   "mimetype": "text/x-python",
   "name": "python",
   "nbconvert_exporter": "python",
   "pygments_lexer": "ipython3",
   "version": "3.11.3"
  },
  "orig_nbformat": 4
 },
 "nbformat": 4,
 "nbformat_minor": 2
}
