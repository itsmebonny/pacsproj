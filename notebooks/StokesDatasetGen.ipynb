{
 "cells": [
  {
   "cell_type": "code",
   "execution_count": 1,
   "metadata": {},
   "outputs": [],
   "source": [
    "#add scripts to path\n",
    "import sys\n",
    "sys.path.append('../scripts')\n",
    "\n",
    "\n",
    "from dolfin import *\n",
    "import matplotlib.pyplot as plt\n",
    "import numpy as np\n",
    "import GenerateData as gd\n",
    "import MeshUtils as mutil\n",
    "import gmsh\n",
    "import GenerateGraph as gg\n",
    "import os\n",
    "import json"
   ]
  },
  {
   "cell_type": "code",
   "execution_count": 2,
   "metadata": {},
   "outputs": [
    {
     "name": "stdout",
     "output_type": "stream",
     "text": [
      "Calling FFC just-in-time (JIT) compiler, this may take some time.\n",
      "Graph saved to disk.\n",
      "Created /mnt/c/Users/ASUS/Desktop/POLI/PACS/pacsproj/data/graphs_stokes/dataset_info.json\n"
     ]
    }
   ],
   "source": [
    "ngraphs = 2 # number of graphs to generate\n",
    "output_dir = \"../data/graphs_stokes/\" # output directory for graphs \n",
    "mesh_dir = \"../data/mesh_stokes/\" # directory for mesh files\n",
    "mesh_info = json.load(open(mesh_dir + 'mesh_info.json'))\n",
    "mesh_name = mesh_info['mesh_name']\n",
    "nmesh = mesh_info['nmesh']\n",
    "nodes = mesh_info['interfaces']\n",
    "\n",
    "inflow = Expression((\"(-1.0/4.0*x[1]*x[1] + 1)\", \" 0.0 \"), degree=2)\n",
    "dt = 0.5\n",
    "T = 5\n",
    "f = Constant((0.0, 0.0))\n",
    "Re = 100\n",
    "\n",
    "imesh = np.random.randint(0,nmesh)\n",
    "mesh_load = mutil.MeshLoader(mesh_dir + mesh_name + f\"_{imesh}\")\n",
    "mesh = mesh_load.mesh\n",
    "bounds = mesh_load.bounds\n",
    "face = mesh_load.face\n",
    "mesh_load.update_tags(nodes=nodes)\n",
    "mesh_load.measure_definition()\n",
    "\n",
    "V = VectorElement(\"P\", mesh_load.mesh.ufl_cell(), 2)\n",
    "Q = FiniteElement(\"P\", mesh_load.mesh.ufl_cell(), 1)\n",
    "set_log_active(False)\n",
    "solver = gd.Stokes(mesh_load, V, Q, Re, inflow, f, dt, T)\n",
    "solver.solve()\n",
    "data = gd.DataNS(solver,mesh_load)\n",
    "data.save_graph(output_dir)\n",
    "data.generate_json(output_dir)"
   ]
  }
 ],
 "metadata": {
  "kernelspec": {
   "display_name": "fenics",
   "language": "python",
   "name": "python3"
  },
  "language_info": {
   "codemirror_mode": {
    "name": "ipython",
    "version": 3
   },
   "file_extension": ".py",
   "mimetype": "text/x-python",
   "name": "python",
   "nbconvert_exporter": "python",
   "pygments_lexer": "ipython3",
   "version": "3.11.3"
  },
  "orig_nbformat": 4
 },
 "nbformat": 4,
 "nbformat_minor": 2
}
